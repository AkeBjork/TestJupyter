{
 "cells": [
  {
   "cell_type": "markdown",
   "metadata": {},
   "source": [
    "# Velkommen til Jupyter Notebook\n"
   ]
  },
  {
   "cell_type": "markdown",
   "metadata": {},
   "source": [
    "Nå skal vi se på noen ting vi kan gjøre i Jupyter."
   ]
  },
  {
   "cell_type": "markdown",
   "metadata": {},
   "source": [
    "## Inneholdsfortegnelse\n",
    "[Hurtigtaster](#Hurtigtaster)<br>\n",
    "[Tekstformatering](#Tekstformatering)"
   ]
  },
  {
   "cell_type": "markdown",
   "metadata": {},
   "source": [
    "## Hurtigtaster"
   ]
  },
  {
   "cell_type": "markdown",
   "metadata": {},
   "source": [
    "- m endrer en celle til å være en markdown celle\n",
    "- y endrer en celle til å være en code celle\n",
    "- a lager en ny celle over den cellen du er på\n",
    "- b lager en ny celle under den cellen du er på\n",
    "- dd sletter aktiv celle\n",
    "- enter går inn i celle\n",
    "- escape går ut\n",
    "- ctrl + enter kjører cellen"
   ]
  },
  {
   "cell_type": "markdown",
   "metadata": {},
   "source": [
    "## Tekstformatering"
   ]
  },
  {
   "cell_type": "markdown",
   "metadata": {},
   "source": [
    "**Fet skrift** <br>\n",
    "_Kursiv skrift_<br>\n",
    "*kursiv skrift*"
   ]
  },
  {
   "cell_type": "markdown",
   "metadata": {},
   "source": [
    "En funksjon kan f.eks skrives slik f(x) = 3x^2 - 1<br>\n",
    "Men man kan også bruke laTeX i Jupyter ved å omslutte med dollartegn: $f(x)=3x^2-1$<br>\n",
    "Hvis du vil ha en matematisk formel midtstilt på en egen linje, omslutter du den med to dollartegn: $$g(x) = \\frac{1}{x}$$\n",
    "Hvis du vil fremheve kode i teksten din, omslutter du den med aksent gravis: Vi skal bruke ``print()`` -kommandoen<br>\n",
    "Hvis du vil fremheve flere kodelinjer så bruker du tre gravis: <br>\n",
    "```\n",
    "x = 2\n",
    "for i in range(5):\n",
    "    x = x**x\n",
    "print(x)\n",
    "```\n",
    "<br>\n",
    "\n"
   ]
  },
  {
   "cell_type": "code",
   "execution_count": 6,
   "metadata": {},
   "outputs": [],
   "source": [
    "a=4\n",
    "b=5\n",
    "\n",
    "c= a+b"
   ]
  },
  {
   "cell_type": "code",
   "execution_count": 8,
   "metadata": {},
   "outputs": [
    {
     "name": "stdout",
     "output_type": "stream",
     "text": [
      "9\n"
     ]
    }
   ],
   "source": [
    "print(c)"
   ]
  },
  {
   "attachments": {
    "FCP_HorizontalBarKnob.png": {
     "image/png": "[encoded data removed]"
    }
   },
   "cell_type": "markdown",
   "metadata": {},
   "source": [
    "## Bilder og hyperkoblinger<br>\n",
    "Vi kan sette inn bilder ved p bruke edit -> insert image!<br>\n",
    "![FCP_HorizontalBarKnob.png](attachment:FCP_HorizontalBarKnob.png)\n",
    "Vi kan sette inn linker på denne måten: `[Trykk her!](www.vg.no)`<br>\n",
    "[hei](http://www.vg.no)"
   ]
  },
  {
   "cell_type": "markdown",
   "metadata": {},
   "source": [
    "[section title](#section-title)\n",
    " "
   ]
  }
 ],
 "metadata": {
  "kernelspec": {
   "display_name": "Python 3",
   "language": "python",
   "name": "python3"
  },
  "language_info": {
   "codemirror_mode": {
    "name": "ipython",
    "version": 3
   },
   "file_extension": ".py",
   "mimetype": "text/x-python",
   "name": "python",
   "nbconvert_exporter": "python",
   "pygments_lexer": "ipython3",
   "version": "3.7.6"
  }
 },
 "nbformat": 4,
 "nbformat_minor": 4
}
